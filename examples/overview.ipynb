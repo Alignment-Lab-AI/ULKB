{
 "cells": [
  {
   "cell_type": "markdown",
   "id": "3d61bb9b-486b-4f5f-b27f-217d9372a221",
   "metadata": {},
   "source": [
    "# Overview"
   ]
  },
  {
   "cell_type": "code",
   "execution_count": 1,
   "id": "ce94b8d6-8d58-4b8a-b6f1-efe6a5ca7775",
   "metadata": {},
   "outputs": [],
   "source": [
    "from ulkb import *                   # import ULKB Logic namespace\n",
    "settings.serializer.ulkb.ensure_ascii = True"
   ]
  },
  {
   "cell_type": "markdown",
   "id": "166e6788-4453-4cb1-ba82-90d25c905769",
   "metadata": {},
   "source": [
    "## Types"
   ]
  },
  {
   "cell_type": "code",
   "execution_count": 2,
   "id": "847daae3-37c3-48ec-a304-7dacc865ff9e",
   "metadata": {},
   "outputs": [
    {
     "name": "stdout",
     "output_type": "stream",
     "text": [
      "int : *\n"
     ]
    }
   ],
   "source": [
    "from ulkb import *                   # import ULKB Logic namespace\n",
    "int_tc = TypeConstructor('int', 0)   # create the int t.c.\n",
    "int_ty = TypeApplication(int_tc)     # create the int type\n",
    "print(int_ty)                        # \": *\" means \"is a type\""
   ]
  },
  {
   "cell_type": "code",
   "execution_count": 3,
   "id": "63627386-5233-40e7-b449-72269af15e31",
   "metadata": {},
   "outputs": [
    {
     "name": "stdout",
     "output_type": "stream",
     "text": [
      "list int : *\n"
     ]
    }
   ],
   "source": [
    "list_tc = TypeConstructor('list', 1) # create the list t.c.\n",
    "list_int_ty = list_tc(int_ty)        # create the (list int) type\n",
    "print(list_int_ty)"
   ]
  },
  {
   "cell_type": "markdown",
   "id": "8cd4bb53-5241-420a-a72d-a0bc0cc447a6",
   "metadata": {},
   "source": [
    "## Terms"
   ]
  },
  {
   "cell_type": "code",
   "execution_count": 4,
   "id": "6552168b-59d2-4c7f-94cb-b56956074f9e",
   "metadata": {},
   "outputs": [
    {
     "name": "stdout",
     "output_type": "stream",
     "text": [
      "(fun x => x) : a -> a\n"
     ]
    }
   ],
   "source": [
    "a = TypeVariable('a')       # create (a : *)\n",
    "k = Constant('k', a)        # create (k : a)\n",
    "x = Variable('x', a)        # create (x : a)\n",
    "id_ = Abstraction(x, x)     # create the identity function\n",
    "print(id_)"
   ]
  },
  {
   "cell_type": "code",
   "execution_count": 5,
   "id": "b2c697c1-84ca-4c8b-b203-d0a48d2188bb",
   "metadata": {},
   "outputs": [
    {
     "name": "stdout",
     "output_type": "stream",
     "text": [
      "(fun x => x) k : a\n"
     ]
    }
   ],
   "source": [
    "print(Application(id_, k))  # create the app. of id_ to k"
   ]
  },
  {
   "cell_type": "code",
   "execution_count": 6,
   "id": "577232e7-f6dd-4e5c-8344-a7b6871557db",
   "metadata": {},
   "outputs": [
    {
     "name": "stdout",
     "output_type": "stream",
     "text": [
      "(fun x => x) : a -> a\n"
     ]
    }
   ],
   "source": [
    "id_ = (x >> x)\n",
    "print(id_)"
   ]
  },
  {
   "cell_type": "code",
   "execution_count": 7,
   "id": "a656343b-63e8-437e-b058-797ea61c6642",
   "metadata": {},
   "outputs": [
    {
     "name": "stdout",
     "output_type": "stream",
     "text": [
      "(fun x => x) k : a\n"
     ]
    }
   ],
   "source": [
    "print(id_(k))"
   ]
  },
  {
   "cell_type": "markdown",
   "id": "cb94e39f-9244-4cd2-ad2f-cc8993bd106f",
   "metadata": {},
   "source": [
    "## Deductive system"
   ]
  },
  {
   "cell_type": "code",
   "execution_count": 8,
   "id": "4b440fca-6717-41f2-b8c8-cd89396135bf",
   "metadata": {},
   "outputs": [
    {
     "name": "stdout",
     "output_type": "stream",
     "text": [
      "|- (fun x => x) k = k\n"
     ]
    }
   ],
   "source": [
    "print(BetaConv(id_(k)))"
   ]
  },
  {
   "cell_type": "code",
   "execution_count": 9,
   "id": "3093c9f6-e323-4417-87b1-8c4ff35614ef",
   "metadata": {},
   "outputs": [
    {
     "name": "stdout",
     "output_type": "stream",
     "text": [
      "True\n"
     ]
    }
   ],
   "source": [
    "x, y = Variables('x', 'y', a)\n",
    "print((x >> x) == (y >> y))"
   ]
  },
  {
   "cell_type": "markdown",
   "id": "62156ee3-3da8-4b65-a7d9-fdfe85b9cd49",
   "metadata": {},
   "source": [
    "## Logical constants"
   ]
  },
  {
   "cell_type": "code",
   "execution_count": 10,
   "id": "32becb4c-0157-42f5-ac1c-1729f89768ec",
   "metadata": {},
   "outputs": [
    {
     "name": "stdout",
     "output_type": "stream",
     "text": [
      "equal (fun x => x) : (a -> a) -> bool\n"
     ]
    }
   ],
   "source": [
    "print(equal(id_))"
   ]
  },
  {
   "cell_type": "code",
   "execution_count": 11,
   "id": "39dcd75b-adec-4917-b67f-09cb928f7c78",
   "metadata": {},
   "outputs": [
    {
     "name": "stdout",
     "output_type": "stream",
     "text": [
      "4\tdefinition (true : bool) := (fun p => p) = (fun p => p)\n"
     ]
    }
   ],
   "source": [
    "show_definitions(offset=0, id='true')"
   ]
  },
  {
   "cell_type": "code",
   "execution_count": 12,
   "id": "92f31ce7-9f6b-4edc-936d-48a5facfa242",
   "metadata": {},
   "outputs": [
    {
     "name": "stdout",
     "output_type": "stream",
     "text": [
      "|- true <-> (fun p => p) = (fun p => p)\n"
     ]
    }
   ],
   "source": [
    "def_true = lookup_definition('true')\n",
    "print(def_true)"
   ]
  },
  {
   "cell_type": "code",
   "execution_count": 13,
   "id": "1f818a63-1409-462b-a284-32cd379232f7",
   "metadata": {},
   "outputs": [
    {
     "name": "stdout",
     "output_type": "stream",
     "text": [
      "|- true\n"
     ]
    }
   ],
   "source": [
    "x = Variable('x', BoolType())\n",
    "print(RuleEqMP(RuleSym(def_true), RuleRefl(x >> x)))"
   ]
  },
  {
   "cell_type": "code",
   "execution_count": 14,
   "id": "1184538b-c2a0-41de-95db-7f9ce89193fd",
   "metadata": {},
   "outputs": [
    {
     "name": "stdout",
     "output_type": "stream",
     "text": [
      "(forall x y, x = y) : bool\n"
     ]
    }
   ],
   "source": [
    "x, y = Variables('x', 'y', a)\n",
    "print(forall(Abstraction(x, forall(Abstraction(y, equal(x, y))))))"
   ]
  },
  {
   "cell_type": "code",
   "execution_count": 15,
   "id": "0030b53e-f352-4bf0-9dac-1aeb950eb842",
   "metadata": {},
   "outputs": [
    {
     "name": "stdout",
     "output_type": "stream",
     "text": [
      "(forall x y, x = y) : bool\n"
     ]
    }
   ],
   "source": [
    "print(Forall(x, y, Equal(x, y)))"
   ]
  },
  {
   "cell_type": "markdown",
   "id": "a82b319f-905b-4165-a1f2-bea608676151",
   "metadata": {},
   "source": [
    "## Graph API"
   ]
  },
  {
   "cell_type": "code",
   "execution_count": 16,
   "id": "db6920b8-2f88-4a7b-ba8e-7c9292594a75",
   "metadata": {},
   "outputs": [],
   "source": [
    "settings.graph.uri = 'https://query.wikidata.org/sparql'\n",
    "settings.graph.namespaces = { # Wikidata SPARQL prefixes\n",
    "   'wd': 'http://www.wikidata.org/entity/',\n",
    "   'wdt': 'http://www.wikidata.org/prop/direct/'}"
   ]
  },
  {
   "cell_type": "code",
   "execution_count": 17,
   "id": "2b2d657b-0516-4147-8009-ace6568a3d81",
   "metadata": {},
   "outputs": [],
   "source": [
    "a             = TypeVariable('a') # a : *\n",
    "actor         = new_constant('wd:Q33999', a, label='actor')\n",
    "blond_hair    = new_constant('wd:Q202466', a, label='blond hair')\n",
    "female        = new_constant('wd:Q6581072', a, label='female')\n",
    "Porto_Alegre  = new_constant('wd:Q40269', a, label='Porto Alegre')\n",
    "singer        = new_constant('wd:Q177220', a, label='singer')\n",
    "\n",
    "aab           = FunctionType(a, a, BoolType()) # a -> a -> bool : *\n",
    "date_of_death = new_constant('wdt:P570', aab, label='date of death')\n",
    "gender        = new_constant('wdt:P21', aab, label='gender')\n",
    "hair_color    = new_constant('wdt:P1884', aab, label='hair color')\n",
    "occupation    = new_constant('wdt:P106', aab, label='occupation')\n",
    "place_of_birth= new_constant('wdt:P19', aab, label='place of birth')"
   ]
  },
  {
   "cell_type": "code",
   "execution_count": 18,
   "id": "2ae9cddf-3b22-4466-bcfe-53dfdc8fd897",
   "metadata": {},
   "outputs": [
    {
     "name": "stdout",
     "output_type": "stream",
     "text": [
      "<gender> x <female> and <place of birth> x <Porto Alegre> and (<occupation> x <singer> or <occupation> x <actor>) and not <hair color> x <blond hair> and (exists y, <date of death> x y) : bool\n"
     ]
    }
   ],
   "source": [
    "x, y = Variables('x', 'y', a)\n",
    "q = And(gender(x, female), place_of_birth(x, Porto_Alegre),\n",
    "        Or(occupation(x, singer), occupation(x, actor)),\n",
    "        Not(hair_color(x, blond_hair)),\n",
    "        Exists(y, date_of_death(x, y)))\n",
    "print(q)"
   ]
  },
  {
   "cell_type": "code",
   "execution_count": 19,
   "id": "a714a12a-f068-465d-b1ed-9927b49bcee2",
   "metadata": {},
   "outputs": [],
   "source": [
    "for f in graph.construct(q, q, limit=10):\n",
    "    new_axiom(f)"
   ]
  },
  {
   "cell_type": "code",
   "execution_count": 20,
   "id": "4de86fb2-ea58-4ef5-b45d-1e6dbd2a8e29",
   "metadata": {},
   "outputs": [
    {
     "name": "stdout",
     "output_type": "stream",
     "text": [
      "29\taxiom <gender> <L\\xedlian Lemmertz> <female> and <place of birth> <L\\xedlian Lemmertz> <Porto Alegre> and (<occupation> <L\\xedlian Lemmertz> <singer> or <occupation> <L\\xedlian Lemmertz> <actor>) and not <hair color> <L\\xedlian Lemmertz> <blond hair> and (exists y, <date of death> <L\\xedlian Lemmertz> y)\n",
      "30\taxiom <gender> <Abigail Maia> <female> and <place of birth> <Abigail Maia> <Porto Alegre> and (<occupation> <Abigail Maia> <singer> or <occupation> <Abigail Maia> <actor>) and not <hair color> <Abigail Maia> <blond hair> and (exists y, <date of death> <Abigail Maia> y)\n",
      "31\taxiom <gender> <Ema D'\\xc1vila> <female> and <place of birth> <Ema D'\\xc1vila> <Porto Alegre> and (<occupation> <Ema D'\\xc1vila> <singer> or <occupation> <Ema D'\\xc1vila> <actor>) and not <hair color> <Ema D'\\xc1vila> <blond hair> and (exists y, <date of death> <Ema D'\\xc1vila> y)\n",
      "32\taxiom <gender> <Elis Regina> <female> and <place of birth> <Elis Regina> <Porto Alegre> and (<occupation> <Elis Regina> <singer> or <occupation> <Elis Regina> <actor>) and not <hair color> <Elis Regina> <blond hair> and (exists y, <date of death> <Elis Regina> y)\n",
      "33\taxiom <gender> <Norah Fontes> <female> and <place of birth> <Norah Fontes> <Porto Alegre> and (<occupation> <Norah Fontes> <singer> or <occupation> <Norah Fontes> <actor>) and not <hair color> <Norah Fontes> <blond hair> and (exists y, <date of death> <Norah Fontes> y)\n",
      "34\taxiom <gender> <Malena de Toledo> <female> and <place of birth> <Malena de Toledo> <Porto Alegre> and (<occupation> <Malena de Toledo> <singer> or <occupation> <Malena de Toledo> <actor>) and not <hair color> <Malena de Toledo> <blond hair> and (exists y, <date of death> <Malena de Toledo> y)\n",
      "35\taxiom <gender> <Ge\\xf3rgia Quental> <female> and <place of birth> <Ge\\xf3rgia Quental> <Porto Alegre> and (<occupation> <Ge\\xf3rgia Quental> <singer> or <occupation> <Ge\\xf3rgia Quental> <actor>) and not <hair color> <Ge\\xf3rgia Quental> <blond hair> and (exists y, <date of death> <Ge\\xf3rgia Quental> y)\n",
      "36\taxiom <gender> <Carmem Palhares> <female> and <place of birth> <Carmem Palhares> <Porto Alegre> and (<occupation> <Carmem Palhares> <singer> or <occupation> <Carmem Palhares> <actor>) and not <hair color> <Carmem Palhares> <blond hair> and (exists y, <date of death> <Carmem Palhares> y)\n"
     ]
    }
   ],
   "source": [
    "show_axioms()"
   ]
  },
  {
   "cell_type": "code",
   "execution_count": 21,
   "id": "09fc14ac-e9c1-4d63-98ef-2cf5f2a3ba33",
   "metadata": {},
   "outputs": [
    {
     "name": "stdout",
     "output_type": "stream",
     "text": [
      "|- <place of birth> <Elis Regina> <Porto Alegre>\n"
     ]
    }
   ],
   "source": [
    "Elis_Regina = Constant('wd:Q465877', a, label='Elis Regina')\n",
    "print(RuleZ3(place_of_birth(Elis_Regina, Porto_Alegre)))"
   ]
  },
  {
   "cell_type": "code",
   "execution_count": 22,
   "id": "7b2016ad-1f2d-4a25-829c-2dd8d1ea45c8",
   "metadata": {},
   "outputs": [
    {
     "name": "stdout",
     "output_type": "stream",
     "text": [
      "RuleZ3: failed to prove '<place of birth> <Elis Regina> <Brazil> : bool'\n"
     ]
    }
   ],
   "source": [
    "Brazil = Constant('wd:Q155', a, label='Brazil')\n",
    "try:\n",
    "    print(RuleZ3(place_of_birth(Elis_Regina, Brazil)))\n",
    "except RuleError as err:\n",
    "    print(err)"
   ]
  },
  {
   "cell_type": "code",
   "execution_count": 23,
   "id": "b91b3565-9c85-493f-8f3a-26e40ba44549",
   "metadata": {},
   "outputs": [],
   "source": [
    "for f in graph.paths(Porto_Alegre, x, length=1, limit=200):\n",
    "    new_axiom(f)"
   ]
  },
  {
   "cell_type": "code",
   "execution_count": 24,
   "id": "b02469e5-ff61-4ef4-a5a3-4ea4863ce6f7",
   "metadata": {},
   "outputs": [
    {
     "name": "stdout",
     "output_type": "stream",
     "text": [
      "163\taxiom rdfs:label <Porto Alegre> \"Portu Alegri\"\n",
      "164\taxiom <flag> <Porto Alegre> <flag of Porto Alegre>\n",
      "165\taxiom <instance of> <Porto Alegre> <port settlement>\n"
     ]
    }
   ],
   "source": [
    "show_axioms(offset=163, limit=3)"
   ]
  },
  {
   "cell_type": "code",
   "execution_count": 25,
   "id": "fd02d652-394f-421b-84f4-e418282776d8",
   "metadata": {},
   "outputs": [
    {
     "name": "stdout",
     "output_type": "stream",
     "text": [
      "|- forall x y z, <place of birth> x y -> <country> y z -> <place of birth> x z\n"
     ]
    }
   ],
   "source": [
    "country = Constant('wdt:P17', aab, label='country')\n",
    "x, y, z = Variables('x', 'y', 'z', a)\n",
    "ax = new_axiom(Forall(x, y, z, Implies(\n",
    "    place_of_birth(x, y), country(y, z), place_of_birth(x, z))))\n",
    "print(ax)"
   ]
  },
  {
   "cell_type": "code",
   "execution_count": 26,
   "id": "f67e0d2d-3d30-4294-ae52-694766723918",
   "metadata": {},
   "outputs": [
    {
     "name": "stdout",
     "output_type": "stream",
     "text": [
      "|- <place of birth> <Elis Regina> <Brazil>\n"
     ]
    }
   ],
   "source": [
    "thm = RuleZ3(place_of_birth(Elis_Regina, Brazil))\n",
    "print(new_theorem(thm))"
   ]
  },
  {
   "cell_type": "code",
   "execution_count": 27,
   "id": "53701b22-dcc7-49ad-a976-ff6c6e975212",
   "metadata": {},
   "outputs": [
    {
     "name": "stdout",
     "output_type": "stream",
     "text": [
      "203\ttheorem <place of birth> <Elis Regina> <Brazil>\n"
     ]
    }
   ],
   "source": [
    "show_theorems()"
   ]
  }
 ],
 "metadata": {
  "kernelspec": {
   "display_name": "ULKB",
   "language": "python",
   "name": "ulkb"
  },
  "language_info": {
   "codemirror_mode": {
    "name": "ipython",
    "version": 3
   },
   "file_extension": ".py",
   "mimetype": "text/x-python",
   "name": "python",
   "nbconvert_exporter": "python",
   "pygments_lexer": "ipython3",
   "version": "3.11.4"
  }
 },
 "nbformat": 4,
 "nbformat_minor": 5
}
